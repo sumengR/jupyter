{
 "cells": [
  {
   "cell_type": "markdown",
   "metadata": {},
   "source": [
    "# Rcpp简介"
   ]
  },
  {
   "cell_type": "markdown",
   "metadata": {},
   "source": [
    "### 从R到C++"
   ]
  },
  {
   "cell_type": "markdown",
   "metadata": {},
   "source": [
    "Rcpp 是一个R语言的扩展包.Rcpp提供了一个干净，平易近人的API，可以让你编写**高性能代码.**"
   ]
  },
  {
   "cell_type": "markdown",
   "metadata": {},
   "source": [
    "C++能加速的典型问题：\n",
    "+ 多重循环或者递归函数\n",
    "+ 需要多次调用的函数\n",
    "+ C++的STL标准模板库中提供多种R中没有的高级数据类型和算法"
   ]
  },
  {
   "cell_type": "markdown",
   "metadata": {},
   "source": [
    "#### 一个例子！"
   ]
  },
  {
   "cell_type": "code",
   "execution_count": 10,
   "metadata": {},
   "outputs": [
    {
     "data": {
      "text/plain": [
       "   user  system elapsed \n",
       "   0.86    0.02    0.88 "
      ]
     },
     "metadata": {},
     "output_type": "display_data"
    },
    {
     "data": {
      "text/plain": [
       "   user  system elapsed \n",
       "      0       0       0 "
      ]
     },
     "metadata": {},
     "output_type": "display_data"
    }
   ],
   "source": [
    "setwd(\"D:/Rworkspeace\")\n",
    "library(Rcpp)\n",
    "sourceCpp(\"demo1.cpp\")\n",
    "\n",
    "fib_r <- function(n){\n",
    "  if(n==1||n==2) return(1)\n",
    "  return(fib_r(n-1)+fib_r(n-2))\n",
    "}\n",
    "\n",
    "system.time(fib_r(30))\n",
    "system.time(fib_cpp(30))"
   ]
  },
  {
   "cell_type": "markdown",
   "metadata": {},
   "source": [
    "### Rcpp安装"
   ]
  },
  {
   "cell_type": "markdown",
   "metadata": {},
   "source": [
    "+ mac linux用户在R环境install.packages(\"Rcpp\")\n",
    "+ win用户需要安装[Rtools](https://cran.r-project.org/bin/windows/Rtools/)并添加环境变量,[教程](https://blog.csdn.net/wzgl__wh/article/details/70185687)."
   ]
  },
  {
   "cell_type": "markdown",
   "metadata": {},
   "source": [
    "### Rcpp常用数据类型"
   ]
  },
  {
   "cell_type": "markdown",
   "metadata": {},
   "source": [
    " |类型 |描述 |\n",
    " |:-|-|\n",
    " |**int/double/bool/String/auto** | 整数型/数值型/布尔值/字符型/自动识别(C++11)|\n",
    " |**IntegerVector**  |整型向量|\n",
    " |**NumericVector** |数值型向量|\n",
    " |**ComplexVector**  |复数向量|\n",
    " |**LogicalVector** |逻辑向量|\n",
    " |**CharacterVector**|  字符向量|\n",
    " |**IntegerMatrix** | 整型矩阵|\n",
    " |**NumericMatrix**|数值型矩阵|\n",
    " |**LogicalMatrix** | 逻辑矩阵|\n",
    " |**CharacterMatrix**| 字符矩阵|\n",
    " |**List**  |列表|\n",
    " |**DataFrame** | 数据框|\n"
   ]
  },
  {
   "cell_type": "markdown",
   "metadata": {},
   "source": [
    "### 常用数据类型初始化"
   ]
  },
  {
   "cell_type": "markdown",
   "metadata": {},
   "source": [
    "|代码|作用|\n",
    "|-|-|\n",
    "|Vector||\n",
    "| NumericVector V1(n); |创建长度为n的向量V1|\n",
    "| NumericVector V2=NumericVector::create(1, 2, 3);| 创建向量V2包含三个元素1，2，3|\n",
    "|Matrix||\n",
    "| NumericMatrix M1(nrow,ncol);|创建nrow * ncol的数值矩阵|\n",
    "|List||\n",
    "|List L=List::create(Named(\"y1\")=y1,Named(\"y2\")=y2);|创建list,名称为y1,y2|\n",
    "|DataFram||\n",
    "|DataFrame DF=DataFrame::create(Named(\"col1\")=a,Named(\"col2\")=b,Named(\"col3\")=c);|创建数据框|\n"
   ]
  },
  {
   "cell_type": "markdown",
   "metadata": {},
   "source": [
    "### 数据访问"
   ]
  },
  {
   "cell_type": "markdown",
   "metadata": {},
   "source": [
    "+ Rcpp使用\"()\"访问元素\n",
    "+ Cpp中索引从0开始\n",
    "+ a(0,2)访问矩阵a的第1行第2列"
   ]
  },
  {
   "cell_type": "markdown",
   "metadata": {},
   "source": [
    "### 常用函数"
   ]
  },
  {
   "cell_type": "markdown",
   "metadata": {},
   "source": [
    "- +, -, *, /, pow(x,p), <, <=, >, >=, ==, !=, ! \n",
    "    + 均支持向量化\n",
    "- A.size()  \n",
    "    + 返回向量或矩阵的大小\n",
    "- A.push_back(a) \n",
    "    + 将a添加到A的最后\n",
    "- A.push_front(a)\n",
    "    + 将a添加到A的前面\n",
    "- A.ncol() \n",
    "    + 返回A的列数\n",
    "- A.nrow() \n",
    "    + 返回A的行数\n"
   ]
  },
  {
   "cell_type": "markdown",
   "metadata": {},
   "source": [
    "### C++函数在R环境运行"
   ]
  },
  {
   "cell_type": "code",
   "execution_count": 15,
   "metadata": {},
   "outputs": [
    {
     "data": {
      "text/html": [
       "5"
      ],
      "text/latex": [
       "5"
      ],
      "text/markdown": [
       "5"
      ],
      "text/plain": [
       "[1] 5"
      ]
     },
     "metadata": {},
     "output_type": "display_data"
    }
   ],
   "source": [
    "scr = \"int fib_cpp_1(int n){\n",
    "         if(n==1||n==2) return 1;\n",
    "         return(fib_cpp_1(n-1)+fib_cpp_1(n-2));\n",
    "    }\n",
    "\"\n",
    "cppFunction(scr)\n",
    "fib_cpp_1(5)"
   ]
  },
  {
   "cell_type": "code",
   "execution_count": 16,
   "metadata": {},
   "outputs": [
    {
     "data": {
      "text/html": [
       "5"
      ],
      "text/latex": [
       "5"
      ],
      "text/markdown": [
       "5"
      ],
      "text/plain": [
       "[1] 5"
      ]
     },
     "metadata": {},
     "output_type": "display_data"
    }
   ],
   "source": [
    "sourceCpp(\"demo1.cpp\")\n",
    "fib_cpp(5)"
   ]
  },
  {
   "cell_type": "markdown",
   "metadata": {},
   "source": [
    "### C++文件的编写规则"
   ]
  },
  {
   "cell_type": "markdown",
   "metadata": {},
   "source": [
    "#include < Rcpp.h \\>    \n",
    "using namespace Rcpp;     \n",
    "//[[Rcpp::export]]       \n",
    "\n",
    "Rcpp::mat funMat(){    \n",
    "     ...;      \n",
    "     return mat;    \n",
    "}\n",
    "        \n",
    "            \n",
    "           \n",
    "void fun(){    \n",
    "    ...;          \n",
    "}\n",
    "\n"
   ]
  },
  {
   "cell_type": "markdown",
   "metadata": {},
   "source": [
    "+ 若想在R中使用C++,第一行必须包括在C++文件中\n",
    "+ 第二行可以不写,但必须使用\"Rcpp::\"调用Rcpp的类型\n",
    "+ 第三行必须写在每个想要在R中调用的函数前\n",
    "+ C++函数和变量必须声明类型\n",
    "+ C++每行必须以分号结尾\n",
    "+ 若只对对象本身进行操作可以声明为void型"
   ]
  },
  {
   "cell_type": "markdown",
   "metadata": {},
   "source": [
    "## RcppArmadillo!!!"
   ]
  },
  {
   "cell_type": "markdown",
   "metadata": {},
   "source": [
    "Armadillo 是一个非常优秀、现代、高级的C++库,RcppArmadill使得可以在R语言可以基于Rcpp调用Armadillo库."
   ]
  },
  {
   "cell_type": "markdown",
   "metadata": {},
   "source": [
    "### 为什么要用RcppArmadillo？"
   ]
  },
  {
   "cell_type": "markdown",
   "metadata": {},
   "source": [
    "+ RcppArmadillo中有更多的容器\n",
    "+ RcppArmadillo中对数据操纵更加方便\n",
    "+ RcppArmadillo中实现了许多Rcpp中没有的常用算法,例如矩阵乘法,转置,求逆,矩阵的常用分解\n",
    "+ 类似的库还有\n",
    "    - RInside 在C++中调用R\n",
    "    - RcppGSL 科学数值计算\n",
    "    - RcppEigen  线性代数计算库\n"
   ]
  },
  {
   "cell_type": "markdown",
   "metadata": {},
   "source": [
    "### RcppArmadillo数据类型与常用函数"
   ]
  },
  {
   "cell_type": "markdown",
   "metadata": {},
   "source": [
    "RcppAramdillo提供了丰富的数据类型和操作函数,详见[RcppArmadillo帮助文档](http://arma.sourceforge.net/docs.html#part_classes)"
   ]
  },
  {
   "cell_type": "markdown",
   "metadata": {},
   "source": [
    "### RcppArmadillo文件的编写规则"
   ]
  },
  {
   "cell_type": "markdown",
   "metadata": {},
   "source": [
    "#include < RcppArmadillo.h \\>    \n",
    "// [[Rcpp::depends(RcppArmadillo)]]    \n",
    "// [[Rcpp::export]]    "
   ]
  },
  {
   "cell_type": "markdown",
   "metadata": {},
   "source": [
    "#### 又一个例子！"
   ]
  },
  {
   "cell_type": "code",
   "execution_count": 18,
   "metadata": {},
   "outputs": [
    {
     "data": {
      "text/plain": [
       "\n",
       "Call:\n",
       "lm(formula = b ~ a)\n",
       "\n",
       "Coefficients:\n",
       "(Intercept)           a1           a2           a3  \n",
       "   0.006459     0.301525     0.476332     0.716985  \n"
      ]
     },
     "metadata": {},
     "output_type": "display_data"
    }
   ],
   "source": [
    "a=matrix(rnorm(30000),,3)\n",
    "b=apply(a,1,function(a) sum(a*c(0.3,0.5,0.7))+rnorm(1))\n",
    "lm(b~a)"
   ]
  },
  {
   "cell_type": "code",
   "execution_count": 20,
   "metadata": {},
   "outputs": [
    {
     "data": {
      "text/html": [
       "<dl>\n",
       "\t<dt>$coefficients</dt>\n",
       "\t\t<dd><table>\n",
       "<tbody>\n",
       "\t<tr><td>0.3014306</td></tr>\n",
       "\t<tr><td>0.4764750</td></tr>\n",
       "\t<tr><td>0.7169423</td></tr>\n",
       "</tbody>\n",
       "</table>\n",
       "</dd>\n",
       "\t<dt>$stderr</dt>\n",
       "\t\t<dd><table>\n",
       "<tbody>\n",
       "\t<tr><td>0.009896280</td></tr>\n",
       "\t<tr><td>0.009824000</td></tr>\n",
       "\t<tr><td>0.009836553</td></tr>\n",
       "</tbody>\n",
       "</table>\n",
       "</dd>\n",
       "\t<dt>$df.residual</dt>\n",
       "\t\t<dd>9997</dd>\n",
       "</dl>\n"
      ],
      "text/latex": [
       "\\begin{description}\n",
       "\\item[\\$coefficients] \\begin{tabular}{l}\n",
       "\t 0.3014306\\\\\n",
       "\t 0.4764750\\\\\n",
       "\t 0.7169423\\\\\n",
       "\\end{tabular}\n",
       "\n",
       "\\item[\\$stderr] \\begin{tabular}{l}\n",
       "\t 0.009896280\\\\\n",
       "\t 0.009824000\\\\\n",
       "\t 0.009836553\\\\\n",
       "\\end{tabular}\n",
       "\n",
       "\\item[\\$df.residual] 9997\n",
       "\\end{description}\n"
      ],
      "text/markdown": [
       "$coefficients\n",
       ":   \n",
       "| 0.3014306 | \n",
       "| 0.4764750 | \n",
       "| 0.7169423 | \n",
       "\n",
       "\n",
       "\n",
       "$stderr\n",
       ":   \n",
       "| 0.009896280 | \n",
       "| 0.009824000 | \n",
       "| 0.009836553 | \n",
       "\n",
       "\n",
       "\n",
       "$df.residual\n",
       ":   9997\n",
       "\n",
       "\n"
      ],
      "text/plain": [
       "$coefficients\n",
       "          [,1]\n",
       "[1,] 0.3014306\n",
       "[2,] 0.4764750\n",
       "[3,] 0.7169423\n",
       "\n",
       "$stderr\n",
       "            [,1]\n",
       "[1,] 0.009896280\n",
       "[2,] 0.009824000\n",
       "[3,] 0.009836553\n",
       "\n",
       "$df.residual\n",
       "[1] 9997\n"
      ]
     },
     "metadata": {},
     "output_type": "display_data"
    }
   ],
   "source": [
    "sourceCpp(\"fastlm.cpp\")\n",
    "fastLm(a,b)"
   ]
  },
  {
   "cell_type": "code",
   "execution_count": 26,
   "metadata": {},
   "outputs": [
    {
     "data": {
      "text/html": [
       "<table>\n",
       "<thead><tr><th scope=col>expr</th><th scope=col>min</th><th scope=col>lq</th><th scope=col>mean</th><th scope=col>median</th><th scope=col>uq</th><th scope=col>max</th><th scope=col>neval</th></tr></thead>\n",
       "<tbody>\n",
       "\t<tr><td>lm(b ~ a)   </td><td>7967.553    </td><td>8427.997    </td><td>9054.4853   </td><td>8839.5525   </td><td>9589.329    </td><td>12344.440   </td><td>100         </td></tr>\n",
       "\t<tr><td>fastLm(a, b)</td><td> 238.667    </td><td> 257.778    </td><td> 311.6625   </td><td> 289.7775   </td><td> 314.667    </td><td> 1386.222   </td><td>100         </td></tr>\n",
       "</tbody>\n",
       "</table>\n"
      ],
      "text/latex": [
       "\\begin{tabular}{r|llllllll}\n",
       " expr & min & lq & mean & median & uq & max & neval\\\\\n",
       "\\hline\n",
       "\t lm(b \\textasciitilde{} a)    & 7967.553                      & 8427.997                      & 9054.4853                     & 8839.5525                     & 9589.329                      & 12344.440                     & 100                          \\\\\n",
       "\t fastLm(a, b) &  238.667     &  257.778     &  311.6625    &  289.7775    &  314.667     &  1386.222    & 100         \\\\\n",
       "\\end{tabular}\n"
      ],
      "text/markdown": [
       "\n",
       "expr | min | lq | mean | median | uq | max | neval | \n",
       "|---|---|\n",
       "| lm(b ~ a)    | 7967.553     | 8427.997     | 9054.4853    | 8839.5525    | 9589.329     | 12344.440    | 100          | \n",
       "| fastLm(a, b) |  238.667     |  257.778     |  311.6625    |  289.7775    |  314.667     |  1386.222    | 100          | \n",
       "\n",
       "\n"
      ],
      "text/plain": [
       "  expr         min      lq       mean      median    uq       max       neval\n",
       "1 lm(b ~ a)    7967.553 8427.997 9054.4853 8839.5525 9589.329 12344.440 100  \n",
       "2 fastLm(a, b)  238.667  257.778  311.6625  289.7775  314.667  1386.222 100  "
      ]
     },
     "metadata": {},
     "output_type": "display_data"
    }
   ],
   "source": [
    "library(microbenchmark)\n",
    "summary(microbenchmark(lm(b~a),fastLm(a,b)))"
   ]
  },
  {
   "cell_type": "markdown",
   "metadata": {},
   "source": [
    "### 学习资料"
   ]
  },
  {
   "cell_type": "markdown",
   "metadata": {},
   "source": [
    "[Advanced R by Hadley Wickham](http://adv-r.had.co.nz/Rcpp.html)    \n",
    "[Rcpp for everyone](https://teuder.github.io/rcpp4everyone_en/)    \n",
    "[Rcpp:R与C++的无缝整合](https://item.jd.com/11846729.html)    \n",
    "[RcppArmadillo](http://arma.sourceforge.net/docs.html#part_classes)    "
   ]
  }
 ],
 "metadata": {
  "kernelspec": {
   "display_name": "R",
   "language": "R",
   "name": "ir"
  },
  "language_info": {
   "codemirror_mode": "r",
   "file_extension": ".r",
   "mimetype": "text/x-r-source",
   "name": "R",
   "pygments_lexer": "r",
   "version": "3.4.2"
  }
 },
 "nbformat": 4,
 "nbformat_minor": 2
}
