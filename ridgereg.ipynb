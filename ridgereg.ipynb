{
 "cells": [
  {
   "cell_type": "markdown",
   "metadata": {},
   "source": [
    "本笔记由马景义, 赖楸鸿完成, 如有任何错误欢迎向两位编者反馈."
   ]
  },
  {
   "cell_type": "markdown",
   "metadata": {},
   "source": [
    "## 一些常用的公式"
   ]
  },
  {
   "cell_type": "markdown",
   "metadata": {},
   "source": [
    "（1）链式法则：若$y(x)$为$x$的向量函数，则\n",
    "$$ \\frac{\\partial f(y(x))}{\\partial x} = \\frac{\\partial y^T(x)}{\\partial x}\\frac{\\partial f(y)}{\\partial y} ,$$\n",
    "其中$\\frac{\\partial y^T(x)}{\\partial x}$为$n\\times n$矩阵。"
   ]
  },
  {
   "cell_type": "markdown",
   "metadata": {},
   "source": [
    "（2）$a$为$n\\times1$常数向量，则\n",
    "$$\\frac{\\partial a^Tx}{\\partial x}= a ,$$\n",
    "$$\\frac{\\partial x^Ta}{\\partial x}= a.$$"
   ]
  },
  {
   "cell_type": "markdown",
   "metadata": {},
   "source": [
    "（3）$a$为$n\\times1$常数向量，则\n",
    "$$\\frac{\\partial a^Ty(x)}{\\partial x}=\\frac{\\partial y^T(x)}{\\partial x}a ,$$\n",
    "$$\\frac{\\partial y^T(x)a}{\\partial x}=\\frac{\\partial y^T(x)}{\\partial x}a.$$"
   ]
  },
  {
   "cell_type": "markdown",
   "metadata": {},
   "source": [
    "（4）矩阵$A$和向量$y$与$x$无关，则$$\\frac{\\partial x^TAy}{\\partial x}=Ay ,$$\n",
    "$$\\frac{\\partial y^TAx}{\\partial x}= A^Ty.$$"
   ]
  },
  {
   "cell_type": "markdown",
   "metadata": {},
   "source": [
    "（5）矩阵$A$和向量$y$与$x$无关，则\n",
    "$$\\frac{\\partial x^TA}{\\partial x}=A ,$$\n",
    "$$\\frac{\\partial x^TAx}{\\partial x}=Ax+A^Tx=(A+A^T)x.$$"
   ]
  },
  {
   "cell_type": "markdown",
   "metadata": {},
   "source": [
    "链式法则搭配后面四条可以衍生出许多公式，感觉已经非常够用了~"
   ]
  },
  {
   "cell_type": "markdown",
   "metadata": {},
   "source": [
    "## 岭回归的求导部分"
   ]
  },
  {
   "cell_type": "markdown",
   "metadata": {},
   "source": [
    "$$\n",
    "L(\\beta)=(Y-X\\beta)^T(Y-X\\beta)+\\beta^T\\lambda\\beta ,$$\n",
    "其中$Y$为$n\\times1$向量，$X$为$n\\times p+1$矩阵，$\\beta$为$p+1\\times1$向量，$\\lambda$为$p+1\\times p+1$矩阵,即\n",
    "$$\\lambda= \\left[\\begin{matrix}0 &0&\\cdots&0 \\\\ 0&\\lambda&\\cdots&0\\\\ \\vdots&\\vdots&\\ddots&\\vdots\\\\0&0&\\cdots&\\lambda \\end{matrix}\\right].$$\n"
   ]
  },
  {
   "cell_type": "markdown",
   "metadata": {},
   "source": [
    "$$\n",
    "\\begin{split}\n",
    "&\\frac{\\partial L(\\beta)}{\\partial \\beta} \\\\\n",
    "=&\\frac{\\partial (Y-X\\beta)^T(Y-X\\beta)}{\\partial \\beta}+\\frac{\\partial \\beta^T\\lambda\\beta}{\\partial \\beta} \\\\\n",
    "=&\\frac{\\partial (Y-X\\beta)^T}{\\partial \\beta}[(Y-X\\beta)+(Y-X\\beta)]+(\\lambda+\\lambda^T)\\beta \\\\\n",
    "=&-2X^T(Y-X\\beta)+2\\lambda\\beta\n",
    "\\end{split}\n",
    "$$\n"
   ]
  },
  {
   "cell_type": "code",
   "execution_count": 4,
   "metadata": {},
   "outputs": [],
   "source": [
    "###mchol函数将方阵分解为一个下三角矩阵乘以该矩阵转置的形式,函数返回值为下三角矩阵\n",
    "mchol <- function(x)\n",
    "{\n",
    "  #求矩阵x的行列数,m为行数,n为列数\n",
    "  mn <- dim(x)\n",
    "  m <- mn[1]\n",
    "  n <- mn[2]\n",
    "\n",
    "  #检验x是否为方阵\n",
    "  if(m != n) \n",
    "  {\n",
    "    return (\"Wrong dimensions of matrix!\")\n",
    "  }\n",
    "\n",
    "  #检验x是否为对称矩阵\n",
    "  if(sum(t(x) != x) > 0) \n",
    "  {\n",
    "    return (\"Input matrix is not symmetrical!\")\n",
    "  }\n",
    "\n",
    "  #L为与x行列数相等的方阵\n",
    "  L <- matrix(0, m, m)\n",
    "  \n",
    "  #循环每进行一次,x的维度降低一维\n",
    "  for(i in 1:m)\n",
    "  {\n",
    "    #L的对角线上元素为x的对角线上元素开方\n",
    "    L[i,i] <- sqrt(x[i,i])\n",
    "    if(i < m)\n",
    "    {\n",
    "      #求当前矩阵的第一列\n",
    "      L[(i+1):m,i] <- x[(i+1):m,i]/L[i,i]\n",
    "\n",
    "      #将刚才求出的第一列乘以它的转置得到TLM(为什么不能直接写TLM = TLV %*% t(TLV)?)\n",
    "      TLV <- L[(i+1):m,i]\n",
    "      TLM <- matrix(TLV, m-i, m-i)\n",
    "      TLM <- sweep(TLM, 2, TLV, \"*\")\n",
    "\n",
    "      #降维后的矩阵为原来位置上的元素减去TLM\n",
    "      x[(i+1):m,(i+1):m] <- x[(i+1):m,(i+1):m] - TLM\n",
    "    }\n",
    "  }\n",
    "  #矩阵的返回值为我们要求的下三角矩阵L\n",
    "  L  \n",
    "}\n",
    "\n",
    "######EXAM\n",
    "#y=matrix(rnorm(20),5)\n",
    "#x=t(y)%*%y\n",
    "#mchol(x)\n",
    "######EXAM"
   ]
  },
  {
   "cell_type": "code",
   "execution_count": 5,
   "metadata": {},
   "outputs": [],
   "source": [
    "###mforwardsolve函数的参数为一个下三角矩阵L和它与另一个矩阵的乘积得到的向量结果b,返回值为另一个矩阵x\n",
    "mforwardsolve <- function(L, b)\n",
    "{\n",
    "  #求L的行列数,m为L的行数,n为L的列数\n",
    "  mn <- dim(L)\n",
    "  m <- mn[1]\n",
    "  n <- mn[2]\n",
    "\n",
    "  #判断L是否为方阵\n",
    "  if(m != n) \n",
    "  {\n",
    "    return (\"Wrong dimensions of matrix L!\")\n",
    "  }\n",
    "  \n",
    "  #判断L是否为下三角矩阵\n",
    "  for (i in 1:(m-1))\n",
    "  {\n",
    "    if(sum(L[i,(i+1):m] != 0) > 0)\n",
    "    {\n",
    "      return (\"Wrong dimensions of matrix L不是下三角!\")\n",
    "    }\n",
    "  }\n",
    "\n",
    "  #判断L的行数与b的列数是否相等\n",
    "  if(m != length(b))\n",
    "  {\n",
    "    return (\"Wrong dimensions of matrix L or vector b!\")\n",
    "  }\n",
    "  \n",
    "  x=rep(0, m)\n",
    "  \n",
    "  #循环每进行一次,b的维度降低一维(减少第1行和第1列)\n",
    "  for(i in 1:m)\n",
    "  {\n",
    "    #求当前循环中x的第一个元素\n",
    "    x[i] <- b[i] / L[i,i]\n",
    "    #降维后的向量为原来位置上的元素减去刚才求出的x元素下三角矩阵当前的第一列的乘积\n",
    "    if(i < m) \n",
    "    {\n",
    "      b[(i+1):m] <- b[(i+1):m] - x[i]*L[(i+1):m,i]\n",
    "    }      \n",
    "  }\n",
    "  #函数返回值为x向量\n",
    "  x  \n",
    "}\n",
    "\n",
    "\n",
    "\n",
    "###mbacksolve函数与上一个函数所需参数,输出结果大致相同,但L为一个上三角矩阵\n",
    "mbacksolve <- function(L, b)\n",
    "{\n",
    "  #求L的行列数,m为L的行数,n为L的列数\n",
    "  mn <-dim(L)\n",
    "  m <- mn[1]\n",
    "  n <- mn[2]\n",
    "\n",
    "  #判断L是否为方阵\n",
    "  if(m != n)\n",
    "  {  \n",
    "    return (\"Wrong dimensions of matrix L!\")\n",
    "  }\n",
    "\n",
    "  #判断L是否为上三角矩阵\n",
    "  for (i in 2:m)\n",
    "  {\n",
    "    if(sum(L[i,1:(i-1)] != 0) > 0)\n",
    "    {\n",
    "      return (\"Wrong dimensions of matrix L不是下三角!\")\n",
    "    }\n",
    "  }\n",
    "\n",
    "  #判断L的行数与b的列数是否相等\n",
    "  if(m != length(b))\n",
    "  {\n",
    "    return (\"Wrong dimensions of matrix L or vector b!\")\n",
    "  }  \n",
    "  \n",
    "  x <- rep(0, m)\n",
    "  \n",
    "  #循环每进行一次,b的维度降低一维(减少最后1行和最后1列)\n",
    "  for(i in m:1)\n",
    "  {\n",
    "    #求当前循环中x的最后一个元素\n",
    "    x[i] <- b[i] / L[i,i]\n",
    "    #降维后的向量为原来位置上的元素减去刚才求出的x元素与上三角矩阵当前的最后一列的乘积\n",
    "    if(i > 1) \n",
    "    {\n",
    "      b[(i-1):1] <- b[(i-1):1] - x[i]*L[(i-1):1,i]\n",
    "    }      \n",
    "  }\n",
    "  #函数返回值为x向量\n",
    "  x  \n",
    "}\n",
    "\n",
    "\n",
    "######EXAM\n",
    "#y=matrix(rnorm(20),5)\n",
    "#x=t(y)%*%y\n",
    "#L=mchol(x); b=1:4\n",
    "#mforwardsolve(L,b)\n",
    "#forwardsolve(L,b)\n",
    "######EXAM"
   ]
  },
  {
   "cell_type": "code",
   "execution_count": 6,
   "metadata": {},
   "outputs": [],
   "source": [
    "###ridgereg函数的参数x和y分别为回归方程的自变量和因变量,猜测lambda在表示参数被缩小或放大的比例,返回值为参数\n",
    "\n",
    "ridgereg <- function(lambda, x, y)\n",
    "{\n",
    "  #y=data[,m]; x=data[,-m]\n",
    "  #n为自变量矩阵行数,即n个样本,p为自变量矩阵列数,即p个参数\n",
    "  np <- dim(x)\n",
    "  n <- np[1]\n",
    "  p <- np[2]\n",
    "\n",
    "  #将自变量矩阵增加一列,以便于截距项的计算\n",
    "  x <- as.matrix(cbind(rep(1, n),x))\n",
    "\n",
    "  #利用乔里斯基分解求取回归方程的参数\n",
    "  V <- t(x)%*%x + diag(c(0, rep(lambda, p)))\n",
    "  U <- as.vector(t(x)%*%y)\n",
    "  R <- mchol(V)\n",
    "  M <- mforwardsolve(R, U)\n",
    "  mbacksolve(t(R), M)   \n",
    "}"
   ]
  },
  {
   "cell_type": "code",
   "execution_count": 3,
   "metadata": {},
   "outputs": [
    {
     "data": {
      "text/html": [
       "<table>\n",
       "<tbody>\n",
       "\t<tr><td>4 </td><td> 6</td><td> 8</td></tr>\n",
       "\t<tr><td>6 </td><td> 9</td><td>12</td></tr>\n",
       "\t<tr><td>8 </td><td>12</td><td>16</td></tr>\n",
       "</tbody>\n",
       "</table>\n"
      ],
      "text/latex": [
       "\\begin{tabular}{lll}\n",
       "\t 4  &  6 &  8\\\\\n",
       "\t 6  &  9 & 12\\\\\n",
       "\t 8  & 12 & 16\\\\\n",
       "\\end{tabular}\n"
      ],
      "text/markdown": [
       "\n",
       "| 4  |  6 |  8 | \n",
       "| 6  |  9 | 12 | \n",
       "| 8  | 12 | 16 | \n",
       "\n",
       "\n"
      ],
      "text/plain": [
       "     [,1] [,2] [,3]\n",
       "[1,] 4     6    8  \n",
       "[2,] 6     9   12  \n",
       "[3,] 8    12   16  "
      ]
     },
     "metadata": {},
     "output_type": "display_data"
    }
   ],
   "source": [
    "outer(2:4,2:4)"
   ]
  },
  {
   "cell_type": "code",
   "execution_count": 27,
   "metadata": {},
   "outputs": [
    {
     "data": {
      "text/html": [
       "<ol class=list-inline>\n",
       "\t<li>0.439533558041209</li>\n",
       "\t<li>0.562800409300066</li>\n",
       "\t<li>0.561761682327131</li>\n",
       "\t<li>-0.0198710012557136</li>\n",
       "\t<li>0.0989502953509072</li>\n",
       "\t<li>0.645197525205287</li>\n",
       "\t<li>-0.0777548597849345</li>\n",
       "\t<li>0.0344279766734407</li>\n",
       "\t<li>0.00465563598611401</li>\n",
       "</ol>\n"
      ],
      "text/latex": [
       "\\begin{enumerate*}\n",
       "\\item 0.439533558041209\n",
       "\\item 0.562800409300066\n",
       "\\item 0.561761682327131\n",
       "\\item -0.0198710012557136\n",
       "\\item 0.0989502953509072\n",
       "\\item 0.645197525205287\n",
       "\\item -0.0777548597849345\n",
       "\\item 0.0344279766734407\n",
       "\\item 0.00465563598611401\n",
       "\\end{enumerate*}\n"
      ],
      "text/markdown": [
       "1. 0.439533558041209\n",
       "2. 0.562800409300066\n",
       "3. 0.561761682327131\n",
       "4. -0.0198710012557136\n",
       "5. 0.0989502953509072\n",
       "6. 0.645197525205287\n",
       "7. -0.0777548597849345\n",
       "8. 0.0344279766734407\n",
       "9. 0.00465563598611401\n",
       "\n",
       "\n"
      ],
      "text/plain": [
       "[1]  0.439533558  0.562800409  0.561761682 -0.019871001  0.098950295\n",
       "[6]  0.645197525 -0.077754860  0.034427977  0.004655636"
      ]
     },
     "metadata": {},
     "output_type": "display_data"
    },
    {
     "data": {
      "text/html": [
       "<table>\n",
       "<thead><tr><th scope=col>lpsa</th></tr></thead>\n",
       "<tbody>\n",
       "\t<tr><td> 0.562800409</td></tr>\n",
       "\t<tr><td> 0.561761682</td></tr>\n",
       "\t<tr><td>-0.019871001</td></tr>\n",
       "\t<tr><td> 0.098950295</td></tr>\n",
       "\t<tr><td> 0.645197525</td></tr>\n",
       "\t<tr><td>-0.077754860</td></tr>\n",
       "\t<tr><td> 0.034427977</td></tr>\n",
       "\t<tr><td> 0.004655636</td></tr>\n",
       "</tbody>\n",
       "</table>\n"
      ],
      "text/latex": [
       "\\begin{tabular}{l}\n",
       " lpsa\\\\\n",
       "\\hline\n",
       "\t  0.562800409\\\\\n",
       "\t  0.561761682\\\\\n",
       "\t -0.019871001\\\\\n",
       "\t  0.098950295\\\\\n",
       "\t  0.645197525\\\\\n",
       "\t -0.077754860\\\\\n",
       "\t  0.034427977\\\\\n",
       "\t  0.004655636\\\\\n",
       "\\end{tabular}\n"
      ],
      "text/markdown": [
       "\n",
       "lpsa | \n",
       "|---|---|---|---|---|---|---|---|\n",
       "|  0.562800409 | \n",
       "|  0.561761682 | \n",
       "| -0.019871001 | \n",
       "|  0.098950295 | \n",
       "|  0.645197525 | \n",
       "| -0.077754860 | \n",
       "|  0.034427977 | \n",
       "|  0.004655636 | \n",
       "\n",
       "\n"
      ],
      "text/plain": [
       "     lpsa        \n",
       "[1,]  0.562800409\n",
       "[2,]  0.561761682\n",
       "[3,] -0.019871001\n",
       "[4,]  0.098950295\n",
       "[5,]  0.645197525\n",
       "[6,] -0.077754860\n",
       "[7,]  0.034427977\n",
       "[8,]  0.004655636"
      ]
     },
     "metadata": {},
     "output_type": "display_data"
    },
    {
     "data": {
      "image/png": "[encoded data removed]",
      "text/plain": [
       "plot without title"
      ]
     },
     "metadata": {},
     "output_type": "display_data"
    }
   ],
   "source": [
    "###pred函数的参数b为参数向量,x为自变量,返回值为因变量的预测值\n",
    "pred <- function(b, nx)\n",
    "{\n",
    "  #nx=prostate[1:2,1:8]\n",
    "  b <- as.vector(b)\n",
    "  p <- length(b) - 1\n",
    "  \n",
    "  #为什么此处要将矩阵重新排列,原本的形式在计算预测值时不就可以直接与参数向量相乘,不用转置了吗?\n",
    "  nx <- as.matrix(nx, ncol <- p)\n",
    "  n <- dim(nx)[1]\n",
    "  \n",
    "  #计算预测值\n",
    "  apply(t(nx)*b[2:(p+1)], 2, sum) + b[1]  \n",
    "}\n",
    "\n",
    "\n",
    "\n",
    "###cvridgeregerr的参数依次为参数调整比例,自变量,因变量,返回值为bias(每次删掉一行样本,计算n个模型)\n",
    "cvridgeregerr <- function(lambda, x, y){ \n",
    "    #mrige函数每次删掉一组样本进行回归,最后得到n个模型的参数 \n",
    "    np <- dim(x)\n",
    "    n <- np[1]\n",
    "    p <- np[2]\n",
    "    \n",
    "    x <- cbind(1,x)\n",
    "    xy <- cbind(x,y)\n",
    "    \n",
    "    xtx=t(x)%*%x + diag(c(0, rep(lambda, p)))\n",
    "    xty=t(x)%*%y\n",
    "        \n",
    "    mridge <- function(ixy, lambda, xtx, xty){\n",
    "        mp=length(ixy)\n",
    "        ix <- ixy[-mp] \n",
    "        iy <- ixy[mp]\n",
    "        ixtx <- xtx - outer(ix,ix)\n",
    "        ixty <- xty - iy*ix\n",
    "        R <- mchol(ixtx)\n",
    "        M <- mforwardsolve(R, ixty)\n",
    "        mbacksolve(t(R), M)\n",
    "    }\n",
    "\n",
    "    #n为自变量矩阵行数,即n个样本,p为自变量矩阵列数,即p个参数\n",
    "    \n",
    "    #依次删掉第1至n行样本,利用ridgereg函数得到n个模型的回归参数\n",
    "    coe <- t(apply(xy, 1, mridge, lambda, xtx, xty))\n",
    "    \n",
    "    #计算n个模型的预测值与真实值的距离,再计算这n个距离的平均值(我觉得这里应该是cbind(1, x)*coe) \n",
    "    mean((apply(coe*x, 1, sum) - y)^2)\n",
    "}\n",
    "\n",
    "\n",
    "\n",
    "###ridgeregerr的参数依次为参数调整比例,自变量,因变量,返回值为bias(只计算一个模型)\n",
    "ridgeregerr <- function(lambda, x, y)\n",
    "{\n",
    "  #先利用ridgereg函数回归参数,再输入pred函数求取预测值,最后计算n组样本预测值与真实值距离的平均值\n",
    "  mean((pred(ridgereg(lambda, x, y), x) - y)^2)\n",
    "}\n",
    "\n",
    "\n",
    "\n",
    "\n",
    "###############################\n",
    "###在不同的调整参数的比例下,比较两种回归方式的bias\n",
    "library(ElemStatLearn)\n",
    "x <- as.matrix(prostate[ ,1:8])\n",
    "y <- as.vector(prostate[ ,9])\n",
    "LAM <- seq(0.001, 10, len=50)\n",
    "err <- unlist(lapply(LAM, ridgeregerr, x, y))\n",
    "pe <- unlist(lapply(LAM, cvridgeregerr, x, y))\n",
    "#x <- rep(1:50, 2)\n",
    "plot(pe)\n",
    "lam=LAM[which.min(pe)]\n",
    "\n",
    "\n",
    "###############################################\n",
    "###比较两个回归模型,另一个应该是岭回归\n",
    "library(ElemStatLearn)\n",
    "x <- prostate[ ,1:8]\n",
    "y <- prostate[ ,9]\n",
    "ridgereg(lam, x, y)\n",
    "library(mda)\n",
    "ridge1 <- gen.ridge(prostate[ ,1:8], prostate[ ,9, drop <- FALSE], lambda =lam)  \n",
    "ridge1$coe"
   ]
  }
 ],
 "metadata": {
  "kernelspec": {
   "display_name": "R",
   "language": "R",
   "name": "ir"
  },
  "language_info": {
   "codemirror_mode": "r",
   "file_extension": ".r",
   "mimetype": "text/x-r-source",
   "name": "R",
   "pygments_lexer": "r",
   "version": "3.4.3"
  }
 },
 "nbformat": 4,
 "nbformat_minor": 2
}
